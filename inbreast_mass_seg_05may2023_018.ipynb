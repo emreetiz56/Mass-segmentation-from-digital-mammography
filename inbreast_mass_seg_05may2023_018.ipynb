{
  "cells": [
    {
      "cell_type": "code",
      "execution_count": null,
      "metadata": {
        "colab": {
          "base_uri": "https://localhost:8080/"
        },
        "id": "pntvEMroyQ48",
        "outputId": "ddaeb170-dea4-4fe0-810c-51c562784f7a"
      },
      "outputs": [
        {
          "output_type": "stream",
          "name": "stdout",
          "text": [
            "Mounted at /content/drive\n"
          ]
        }
      ],
      "source": [
        "## Drivera bağlanmak için\n",
        "from google.colab import drive\n",
        "drive.mount('/content/drive')\n",
        "vid='018'"
      ]
    },
    {
      "cell_type": "code",
      "execution_count": null,
      "metadata": {
        "id": "HiV15nJlyv1f"
      },
      "outputs": [],
      "source": [
        "import sys\n",
        "sys.path.append('/content/drive/MyDrive/TEZ2')"
      ]
    },
    {
      "cell_type": "code",
      "execution_count": null,
      "metadata": {
        "id": "tu4xXpG4yzG4"
      },
      "outputs": [],
      "source": [
        "#inb_mass_seg_01 seti kullanınca alttaki kodu çalıştır.\n",
        "#from Masssegmentationmain.modelUnet_nikhil import *\n",
        "#inb_mass_seg_02 seti kullanınca alttaki kodu çalıştır üstekini kapat\n",
        "from Masssegmentationmain.modelUnet_nikhill import *\n",
        "#inb_mass_seg_01 seti kullanınca alttaki kodu çalıştır\n",
        "#from Masssegmentationmain.data_1ch import *\n",
        "#inb_mass_seg_02 seti kullanınca alttaki kodu çalıştır üstekini kapat\n",
        "from Masssegmentationmain.data_2ch import *\n",
        "#from Mass-segmentation-main.data_1ch import *\n",
        "import os, os.path\n",
        "\n",
        "\n",
        "\n",
        "# Count the number of train and valid files\n",
        "train_dir = '/content/drive/MyDrive/inb_mass_seg_02/train/mg'\n",
        "train_count=len([name for name in os.listdir(train_dir) if os.path.isfile(os.path.join(train_dir, name))])\n",
        "\n",
        "valid_dir = '/content/drive/MyDrive/inb_mass_seg_02/valid/mg'\n",
        "valid_count=len([name for name in os.listdir(valid_dir) if os.path.isfile(os.path.join(valid_dir, name))])"
      ]
    },
    {
      "cell_type": "code",
      "execution_count": null,
      "metadata": {
        "colab": {
          "base_uri": "https://localhost:8080/"
        },
        "id": "Is45Z0bmy5Zb",
        "outputId": "19a6c85b-6e3c-4bd4-b62f-e0472b62918c"
      },
      "outputs": [
        {
          "output_type": "stream",
          "name": "stdout",
          "text": [
            "Found 68 images belonging to 1 classes.\n",
            "Found 68 images belonging to 1 classes.\n"
          ]
        },
        {
          "output_type": "stream",
          "name": "stderr",
          "text": [
            "<ipython-input-4-71e1578f1411>:46: UserWarning: `Model.fit_generator` is deprecated and will be removed in a future version. Please use `Model.fit`, which supports generators.\n",
            "  model.fit_generator(train_gen, validation_data=valid_gen, steps_per_epoch=steps_per_epoch, validation_steps=valid_steps,\n"
          ]
        },
        {
          "output_type": "stream",
          "name": "stdout",
          "text": [
            "Epoch 1/100\n",
            "102/102 [==============================] - ETA: 0s - loss: 0.9239 - acc: 0.8857 - dice_coef: 0.0761Found 17 images belonging to 1 classes.\n",
            "Found 17 images belonging to 1 classes.\n",
            "\n",
            "Epoch 1: saving model to /content/drive/MyDrive/TEZ2/bestmodel/chkpt018.hdf5\n",
            "102/102 [==============================] - 163s 1s/step - loss: 0.9239 - acc: 0.8857 - dice_coef: 0.0761 - val_loss: 0.9657 - val_acc: 0.9817 - val_dice_coef: 0.0343 - lr: 1.0000e-04\n",
            "Epoch 2/100\n",
            "102/102 [==============================] - ETA: 0s - loss: 0.8919 - acc: 0.9375 - dice_coef: 0.1081\n",
            "Epoch 2: saving model to /content/drive/MyDrive/TEZ2/bestmodel/chkpt018.hdf5\n",
            "102/102 [==============================] - 29s 284ms/step - loss: 0.8919 - acc: 0.9375 - dice_coef: 0.1081 - val_loss: 0.9621 - val_acc: 0.0809 - val_dice_coef: 0.0379 - lr: 1.0000e-04\n",
            "Epoch 3/100\n",
            "102/102 [==============================] - ETA: 0s - loss: 0.8708 - acc: 0.9492 - dice_coef: 0.1292\n",
            "Epoch 3: saving model to /content/drive/MyDrive/TEZ2/bestmodel/chkpt018.hdf5\n",
            "102/102 [==============================] - 30s 289ms/step - loss: 0.8708 - acc: 0.9492 - dice_coef: 0.1292 - val_loss: 0.9652 - val_acc: 0.9828 - val_dice_coef: 0.0348 - lr: 1.0000e-04\n",
            "Epoch 4/100\n",
            "102/102 [==============================] - ETA: 0s - loss: 0.8514 - acc: 0.9494 - dice_coef: 0.1486\n",
            "Epoch 4: saving model to /content/drive/MyDrive/TEZ2/bestmodel/chkpt018.hdf5\n",
            "102/102 [==============================] - 30s 290ms/step - loss: 0.8514 - acc: 0.9494 - dice_coef: 0.1486 - val_loss: 0.9903 - val_acc: 0.6391 - val_dice_coef: 0.0097 - lr: 1.0000e-04\n",
            "Epoch 5/100\n",
            "102/102 [==============================] - ETA: 0s - loss: 0.8451 - acc: 0.9629 - dice_coef: 0.1549\n",
            "Epoch 5: saving model to /content/drive/MyDrive/TEZ2/bestmodel/chkpt018.hdf5\n",
            "102/102 [==============================] - 30s 290ms/step - loss: 0.8451 - acc: 0.9629 - dice_coef: 0.1549 - val_loss: 0.8720 - val_acc: 0.9699 - val_dice_coef: 0.1280 - lr: 1.0000e-04\n",
            "Epoch 6/100\n",
            "102/102 [==============================] - ETA: 0s - loss: 0.8214 - acc: 0.9653 - dice_coef: 0.1786\n",
            "Epoch 6: saving model to /content/drive/MyDrive/TEZ2/bestmodel/chkpt018.hdf5\n",
            "102/102 [==============================] - 30s 292ms/step - loss: 0.8214 - acc: 0.9653 - dice_coef: 0.1786 - val_loss: 0.9590 - val_acc: 0.6865 - val_dice_coef: 0.0410 - lr: 1.0000e-04\n",
            "Epoch 7/100\n",
            "102/102 [==============================] - ETA: 0s - loss: 0.8138 - acc: 0.9667 - dice_coef: 0.1862\n",
            "Epoch 7: saving model to /content/drive/MyDrive/TEZ2/bestmodel/chkpt018.hdf5\n",
            "102/102 [==============================] - 30s 294ms/step - loss: 0.8138 - acc: 0.9667 - dice_coef: 0.1862 - val_loss: 0.9529 - val_acc: 0.6642 - val_dice_coef: 0.0471 - lr: 1.0000e-04\n",
            "Epoch 8/100\n",
            "102/102 [==============================] - ETA: 0s - loss: 0.7932 - acc: 0.9704 - dice_coef: 0.2068\n",
            "Epoch 8: saving model to /content/drive/MyDrive/TEZ2/bestmodel/chkpt018.hdf5\n",
            "102/102 [==============================] - 30s 297ms/step - loss: 0.7932 - acc: 0.9704 - dice_coef: 0.2068 - val_loss: 0.8717 - val_acc: 0.9336 - val_dice_coef: 0.1283 - lr: 1.0000e-04\n",
            "Epoch 9/100\n",
            "102/102 [==============================] - ETA: 0s - loss: 0.7690 - acc: 0.9709 - dice_coef: 0.2310\n",
            "Epoch 9: saving model to /content/drive/MyDrive/TEZ2/bestmodel/chkpt018.hdf5\n",
            "102/102 [==============================] - 30s 298ms/step - loss: 0.7690 - acc: 0.9709 - dice_coef: 0.2310 - val_loss: 0.8411 - val_acc: 0.9559 - val_dice_coef: 0.1589 - lr: 1.0000e-04\n",
            "Epoch 10/100\n",
            "102/102 [==============================] - ETA: 0s - loss: 0.7584 - acc: 0.9779 - dice_coef: 0.2416\n",
            "Epoch 10: saving model to /content/drive/MyDrive/TEZ2/bestmodel/chkpt018.hdf5\n",
            "102/102 [==============================] - 31s 300ms/step - loss: 0.7584 - acc: 0.9779 - dice_coef: 0.2416 - val_loss: 0.7591 - val_acc: 0.9828 - val_dice_coef: 0.2409 - lr: 1.0000e-04\n",
            "Epoch 11/100\n",
            "102/102 [==============================] - ETA: 0s - loss: 0.7283 - acc: 0.9795 - dice_coef: 0.2717\n",
            "Epoch 11: saving model to /content/drive/MyDrive/TEZ2/bestmodel/chkpt018.hdf5\n",
            "102/102 [==============================] - 30s 296ms/step - loss: 0.7283 - acc: 0.9795 - dice_coef: 0.2717 - val_loss: 0.9733 - val_acc: 0.4617 - val_dice_coef: 0.0267 - lr: 1.0000e-04\n",
            "Epoch 12/100\n",
            "102/102 [==============================] - ETA: 0s - loss: 0.6785 - acc: 0.9849 - dice_coef: 0.3215\n",
            "Epoch 12: saving model to /content/drive/MyDrive/TEZ2/bestmodel/chkpt018.hdf5\n",
            "102/102 [==============================] - 30s 297ms/step - loss: 0.6785 - acc: 0.9849 - dice_coef: 0.3215 - val_loss: 0.8268 - val_acc: 0.9617 - val_dice_coef: 0.1732 - lr: 1.0000e-04\n",
            "Epoch 13/100\n",
            "102/102 [==============================] - ETA: 0s - loss: 0.6716 - acc: 0.9828 - dice_coef: 0.3284\n",
            "Epoch 13: saving model to /content/drive/MyDrive/TEZ2/bestmodel/chkpt018.hdf5\n",
            "102/102 [==============================] - 30s 298ms/step - loss: 0.6716 - acc: 0.9828 - dice_coef: 0.3284 - val_loss: 0.6834 - val_acc: 0.9800 - val_dice_coef: 0.3166 - lr: 1.0000e-04\n",
            "Epoch 14/100\n",
            "102/102 [==============================] - ETA: 0s - loss: 0.6165 - acc: 0.9860 - dice_coef: 0.3835\n",
            "Epoch 14: saving model to /content/drive/MyDrive/TEZ2/bestmodel/chkpt018.hdf5\n",
            "102/102 [==============================] - 30s 297ms/step - loss: 0.6165 - acc: 0.9860 - dice_coef: 0.3835 - val_loss: 0.6694 - val_acc: 0.9865 - val_dice_coef: 0.3306 - lr: 1.0000e-04\n",
            "Epoch 15/100\n",
            "102/102 [==============================] - ETA: 0s - loss: 0.5998 - acc: 0.9868 - dice_coef: 0.4002\n",
            "Epoch 15: saving model to /content/drive/MyDrive/TEZ2/bestmodel/chkpt018.hdf5\n",
            "102/102 [==============================] - 30s 298ms/step - loss: 0.5998 - acc: 0.9868 - dice_coef: 0.4002 - val_loss: 0.5726 - val_acc: 0.9868 - val_dice_coef: 0.4274 - lr: 1.0000e-04\n",
            "Epoch 16/100\n",
            "102/102 [==============================] - ETA: 0s - loss: 0.5641 - acc: 0.9893 - dice_coef: 0.4359\n",
            "Epoch 16: saving model to /content/drive/MyDrive/TEZ2/bestmodel/chkpt018.hdf5\n",
            "102/102 [==============================] - 30s 297ms/step - loss: 0.5641 - acc: 0.9893 - dice_coef: 0.4359 - val_loss: 0.9409 - val_acc: 0.9859 - val_dice_coef: 0.0591 - lr: 1.0000e-04\n",
            "Epoch 17/100\n",
            "102/102 [==============================] - ETA: 0s - loss: 0.5299 - acc: 0.9896 - dice_coef: 0.4701\n",
            "Epoch 17: saving model to /content/drive/MyDrive/TEZ2/bestmodel/chkpt018.hdf5\n",
            "102/102 [==============================] - 30s 296ms/step - loss: 0.5299 - acc: 0.9896 - dice_coef: 0.4701 - val_loss: 0.7345 - val_acc: 0.9866 - val_dice_coef: 0.2655 - lr: 1.0000e-04\n",
            "Epoch 18/100\n",
            "102/102 [==============================] - ETA: 0s - loss: 0.5260 - acc: 0.9900 - dice_coef: 0.4740\n",
            "Epoch 18: saving model to /content/drive/MyDrive/TEZ2/bestmodel/chkpt018.hdf5\n",
            "\n",
            "Epoch 18: ReduceLROnPlateau reducing learning rate to 9.999999747378752e-06.\n",
            "102/102 [==============================] - 31s 303ms/step - loss: 0.5260 - acc: 0.9900 - dice_coef: 0.4740 - val_loss: 0.6715 - val_acc: 0.9871 - val_dice_coef: 0.3285 - lr: 1.0000e-04\n",
            "Epoch 19/100\n",
            "102/102 [==============================] - ETA: 0s - loss: 0.5179 - acc: 0.9893 - dice_coef: 0.4821\n",
            "Epoch 19: saving model to /content/drive/MyDrive/TEZ2/bestmodel/chkpt018.hdf5\n",
            "102/102 [==============================] - 31s 300ms/step - loss: 0.5179 - acc: 0.9893 - dice_coef: 0.4821 - val_loss: 0.6345 - val_acc: 0.9900 - val_dice_coef: 0.3655 - lr: 1.0000e-05\n",
            "Epoch 20/100\n",
            "102/102 [==============================] - ETA: 0s - loss: 0.4980 - acc: 0.9917 - dice_coef: 0.5020\n",
            "Epoch 20: saving model to /content/drive/MyDrive/TEZ2/bestmodel/chkpt018.hdf5\n",
            "102/102 [==============================] - 30s 298ms/step - loss: 0.4980 - acc: 0.9917 - dice_coef: 0.5020 - val_loss: 0.5217 - val_acc: 0.9876 - val_dice_coef: 0.4783 - lr: 1.0000e-05\n",
            "Epoch 21/100\n",
            "102/102 [==============================] - ETA: 0s - loss: 0.4629 - acc: 0.9925 - dice_coef: 0.5371\n",
            "Epoch 21: saving model to /content/drive/MyDrive/TEZ2/bestmodel/chkpt018.hdf5\n",
            "102/102 [==============================] - 31s 302ms/step - loss: 0.4629 - acc: 0.9925 - dice_coef: 0.5371 - val_loss: 0.5529 - val_acc: 0.9863 - val_dice_coef: 0.4471 - lr: 1.0000e-05\n",
            "Epoch 22/100\n",
            "102/102 [==============================] - ETA: 0s - loss: 0.4582 - acc: 0.9919 - dice_coef: 0.5418\n",
            "Epoch 22: saving model to /content/drive/MyDrive/TEZ2/bestmodel/chkpt018.hdf5\n",
            "102/102 [==============================] - 30s 297ms/step - loss: 0.4582 - acc: 0.9919 - dice_coef: 0.5418 - val_loss: 0.4553 - val_acc: 0.9914 - val_dice_coef: 0.5447 - lr: 1.0000e-05\n",
            "Epoch 23/100\n",
            "102/102 [==============================] - ETA: 0s - loss: 0.4552 - acc: 0.9921 - dice_coef: 0.5448\n",
            "Epoch 23: saving model to /content/drive/MyDrive/TEZ2/bestmodel/chkpt018.hdf5\n",
            "102/102 [==============================] - 31s 301ms/step - loss: 0.4552 - acc: 0.9921 - dice_coef: 0.5448 - val_loss: 0.4963 - val_acc: 0.9921 - val_dice_coef: 0.5037 - lr: 1.0000e-05\n",
            "Epoch 24/100\n",
            "102/102 [==============================] - ETA: 0s - loss: 0.4437 - acc: 0.9928 - dice_coef: 0.5563\n",
            "Epoch 24: saving model to /content/drive/MyDrive/TEZ2/bestmodel/chkpt018.hdf5\n",
            "102/102 [==============================] - 30s 296ms/step - loss: 0.4437 - acc: 0.9928 - dice_coef: 0.5563 - val_loss: 0.5901 - val_acc: 0.9901 - val_dice_coef: 0.4099 - lr: 1.0000e-05\n",
            "Epoch 25/100\n",
            "102/102 [==============================] - ETA: 0s - loss: 0.4217 - acc: 0.9939 - dice_coef: 0.5783\n",
            "Epoch 25: saving model to /content/drive/MyDrive/TEZ2/bestmodel/chkpt018.hdf5\n",
            "\n",
            "Epoch 25: ReduceLROnPlateau reducing learning rate to 9.999999747378752e-07.\n",
            "102/102 [==============================] - 31s 300ms/step - loss: 0.4217 - acc: 0.9939 - dice_coef: 0.5783 - val_loss: 0.5497 - val_acc: 0.9888 - val_dice_coef: 0.4503 - lr: 1.0000e-05\n",
            "Epoch 26/100\n",
            "102/102 [==============================] - ETA: 0s - loss: 0.4621 - acc: 0.9934 - dice_coef: 0.5379\n",
            "Epoch 26: saving model to /content/drive/MyDrive/TEZ2/bestmodel/chkpt018.hdf5\n",
            "102/102 [==============================] - 30s 298ms/step - loss: 0.4621 - acc: 0.9934 - dice_coef: 0.5379 - val_loss: 0.5361 - val_acc: 0.9878 - val_dice_coef: 0.4639 - lr: 1.0000e-06\n",
            "Epoch 27/100\n",
            "102/102 [==============================] - ETA: 0s - loss: 0.4408 - acc: 0.9934 - dice_coef: 0.5592\n",
            "Epoch 27: saving model to /content/drive/MyDrive/TEZ2/bestmodel/chkpt018.hdf5\n",
            "102/102 [==============================] - 31s 301ms/step - loss: 0.4408 - acc: 0.9934 - dice_coef: 0.5592 - val_loss: 0.3685 - val_acc: 0.9910 - val_dice_coef: 0.6315 - lr: 1.0000e-06\n",
            "Epoch 28/100\n",
            "102/102 [==============================] - ETA: 0s - loss: 0.4579 - acc: 0.9929 - dice_coef: 0.5421\n",
            "Epoch 28: saving model to /content/drive/MyDrive/TEZ2/bestmodel/chkpt018.hdf5\n",
            "102/102 [==============================] - 31s 300ms/step - loss: 0.4579 - acc: 0.9929 - dice_coef: 0.5421 - val_loss: 0.4487 - val_acc: 0.9908 - val_dice_coef: 0.5513 - lr: 1.0000e-06\n",
            "Epoch 29/100\n",
            "102/102 [==============================] - ETA: 0s - loss: 0.4431 - acc: 0.9931 - dice_coef: 0.5569\n",
            "Epoch 29: saving model to /content/drive/MyDrive/TEZ2/bestmodel/chkpt018.hdf5\n",
            "102/102 [==============================] - 31s 299ms/step - loss: 0.4431 - acc: 0.9931 - dice_coef: 0.5569 - val_loss: 0.5363 - val_acc: 0.9894 - val_dice_coef: 0.4637 - lr: 1.0000e-06\n",
            "Epoch 30/100\n",
            "102/102 [==============================] - ETA: 0s - loss: 0.4413 - acc: 0.9927 - dice_coef: 0.5587\n",
            "Epoch 30: saving model to /content/drive/MyDrive/TEZ2/bestmodel/chkpt018.hdf5\n",
            "\n",
            "Epoch 30: ReduceLROnPlateau reducing learning rate to 9.999999974752428e-08.\n",
            "102/102 [==============================] - 31s 300ms/step - loss: 0.4413 - acc: 0.9927 - dice_coef: 0.5587 - val_loss: 0.4634 - val_acc: 0.9910 - val_dice_coef: 0.5366 - lr: 1.0000e-06\n",
            "Epoch 31/100\n",
            "102/102 [==============================] - ETA: 0s - loss: 0.4427 - acc: 0.9934 - dice_coef: 0.5573\n",
            "Epoch 31: saving model to /content/drive/MyDrive/TEZ2/bestmodel/chkpt018.hdf5\n",
            "102/102 [==============================] - 30s 299ms/step - loss: 0.4427 - acc: 0.9934 - dice_coef: 0.5573 - val_loss: 0.3972 - val_acc: 0.9890 - val_dice_coef: 0.6028 - lr: 1.0000e-07\n",
            "Epoch 32/100\n",
            "102/102 [==============================] - ETA: 0s - loss: 0.4475 - acc: 0.9929 - dice_coef: 0.5525\n",
            "Epoch 32: saving model to /content/drive/MyDrive/TEZ2/bestmodel/chkpt018.hdf5\n",
            "102/102 [==============================] - 30s 298ms/step - loss: 0.4475 - acc: 0.9929 - dice_coef: 0.5525 - val_loss: 0.4865 - val_acc: 0.9901 - val_dice_coef: 0.5135 - lr: 1.0000e-07\n",
            "Epoch 32: early stopping\n"
          ]
        },
        {
          "output_type": "execute_result",
          "data": {
            "text/plain": [
              "<keras.callbacks.History at 0x7f33701f4d60>"
            ]
          },
          "metadata": {},
          "execution_count": 4
        }
      ],
      "source": [
        "from tensorflow.keras.callbacks import ModelCheckpoint, ReduceLROnPlateau, EarlyStopping, CSVLogger\n",
        "\n",
        "#Data augmentation\n",
        "data_gen_args = dict(rotation_range=90,\n",
        "                    width_shift_range=0.2,\n",
        "                    height_shift_range=0.2,\n",
        "                    shear_range=0.2,\n",
        "                    zoom_range=0.2,\n",
        "                    horizontal_flip=True,\n",
        "                    vertical_flip=True,\n",
        "                    fill_mode='wrap')\n",
        "\n",
        "# SETTINGS ***\n",
        "batch_size=2\n",
        "learning_rate=1e-4\n",
        "\n",
        "train_gen = trainGenerator(batch_size,'/content/drive/MyDrive/inb_mass_seg_02/train','mg','mask',data_gen_args,save_to_dir = None)\n",
        "valid_gen = trainGenerator(batch_size,'/content/drive/MyDrive/inb_mass_seg_02/valid','mg','mask',data_gen_args,save_to_dir = None)\n",
        "\n",
        "# train_count images are used for training, valid_count images for validating\n",
        "train_steps = train_count//batch_size\n",
        "valid_steps = valid_count//batch_size\n",
        "\n",
        "\n",
        "# SETTINGS ***\n",
        "loss=dice_loss\n",
        "steps_per_epoch=3*train_steps\n",
        "num_epochs=100\n",
        "num_top_filter=32\n",
        "\n",
        "#model = unet(learning_rate, loss, num_top_filter)\n",
        "model = unet(num_top_filter)\n",
        "\n",
        "opt = tf.keras.optimizers.Adam(learning_rate)\n",
        "#metrics = [\"acc\", dice_coef, iou]\n",
        "metrics = [\"acc\", dice_coef]\n",
        "model.compile(loss=loss, optimizer=opt, metrics=metrics)\n",
        "\n",
        "callbacks = [\n",
        "             ModelCheckpoint('/content/drive/MyDrive/TEZ2/bestmodel/chkpt'+vid+'.hdf5', verbose=1, save_best_model=True),\n",
        "             ReduceLROnPlateau(monitor=\"val_loss\", patience=3, factor=0.1, verbose=1, min_lr=1e-8),\n",
        "             CSVLogger(\"/content/drive/MyDrive/TEZ2/bestmodel/data_\"+vid+\".csv\"),\n",
        "             EarlyStopping(monitor=\"val_loss\", patience=5, verbose=1)\n",
        "            ]\n",
        "\n",
        "model.fit_generator(train_gen, validation_data=valid_gen, steps_per_epoch=steps_per_epoch, validation_steps=valid_steps,\n",
        "                    epochs=num_epochs, callbacks=callbacks)"
      ]
    },
    {
      "cell_type": "code",
      "execution_count": null,
      "metadata": {
        "id": "gC_gdKRF06p_"
      },
      "outputs": [],
      "source": [
        "from tensorflow.keras.callbacks import ModelCheckpoint, ReduceLROnPlateau, EarlyStopping, CSVLogger\n",
        "learning_rate=learning_rate\n",
        "loss=loss\n",
        "num_top_filter=num_top_filter\n",
        "model = unet(num_top_filter)"
      ]
    },
    {
      "cell_type": "code",
      "execution_count": null,
      "metadata": {
        "colab": {
          "base_uri": "https://localhost:8080/"
        },
        "id": "1toe70dB07wH",
        "outputId": "2b604ce6-73c6-42a8-d57d-c296423dc8ee"
      },
      "outputs": [
        {
          "output_type": "stream",
          "name": "stderr",
          "text": [
            "<ipython-input-6-20ee554dc4e3>:3: UserWarning: `Model.predict_generator` is deprecated and will be removed in a future version. Please use `Model.predict`, which supports generators.\n",
            "  results = model.predict_generator(validGene,valid_count,verbose=1)\n"
          ]
        },
        {
          "output_type": "stream",
          "name": "stdout",
          "text": [
            "17/17 [==============================] - 13s 662ms/step\n"
          ]
        },
        {
          "output_type": "stream",
          "name": "stderr",
          "text": [
            "/content/drive/MyDrive/TEZ2/Masssegmentationmain/data_2ch.py:104: UserWarning: /content/drive/MyDrive/inb_mass_seg_02/valid/pred/0_predict_018.png is a low contrast image\n",
            "  io.imsave(os.path.join(save_path,\"%d_predict_%s.png\"%(i,vid)),img)\n",
            "/content/drive/MyDrive/TEZ2/Masssegmentationmain/data_2ch.py:104: UserWarning: /content/drive/MyDrive/inb_mass_seg_02/valid/pred/2_predict_018.png is a low contrast image\n",
            "  io.imsave(os.path.join(save_path,\"%d_predict_%s.png\"%(i,vid)),img)\n",
            "/content/drive/MyDrive/TEZ2/Masssegmentationmain/data_2ch.py:104: UserWarning: /content/drive/MyDrive/inb_mass_seg_02/valid/pred/6_predict_018.png is a low contrast image\n",
            "  io.imsave(os.path.join(save_path,\"%d_predict_%s.png\"%(i,vid)),img)\n",
            "/content/drive/MyDrive/TEZ2/Masssegmentationmain/data_2ch.py:104: UserWarning: /content/drive/MyDrive/inb_mass_seg_02/valid/pred/9_predict_018.png is a low contrast image\n",
            "  io.imsave(os.path.join(save_path,\"%d_predict_%s.png\"%(i,vid)),img)\n",
            "/content/drive/MyDrive/TEZ2/Masssegmentationmain/data_2ch.py:104: UserWarning: /content/drive/MyDrive/inb_mass_seg_02/valid/pred/10_predict_018.png is a low contrast image\n",
            "  io.imsave(os.path.join(save_path,\"%d_predict_%s.png\"%(i,vid)),img)\n",
            "/content/drive/MyDrive/TEZ2/Masssegmentationmain/data_2ch.py:104: UserWarning: /content/drive/MyDrive/inb_mass_seg_02/valid/pred/11_predict_018.png is a low contrast image\n",
            "  io.imsave(os.path.join(save_path,\"%d_predict_%s.png\"%(i,vid)),img)\n",
            "/content/drive/MyDrive/TEZ2/Masssegmentationmain/data_2ch.py:104: UserWarning: /content/drive/MyDrive/inb_mass_seg_02/valid/pred/13_predict_018.png is a low contrast image\n",
            "  io.imsave(os.path.join(save_path,\"%d_predict_%s.png\"%(i,vid)),img)\n",
            "/content/drive/MyDrive/TEZ2/Masssegmentationmain/data_2ch.py:104: UserWarning: /content/drive/MyDrive/inb_mass_seg_02/valid/pred/15_predict_018.png is a low contrast image\n",
            "  io.imsave(os.path.join(save_path,\"%d_predict_%s.png\"%(i,vid)),img)\n",
            "/content/drive/MyDrive/TEZ2/Masssegmentationmain/data_2ch.py:104: UserWarning: /content/drive/MyDrive/inb_mass_seg_02/valid/pred/16_predict_018.png is a low contrast image\n",
            "  io.imsave(os.path.join(save_path,\"%d_predict_%s.png\"%(i,vid)),img)\n"
          ]
        }
      ],
      "source": [
        "validGene = testGenerator(\"/content/drive/MyDrive/inb_mass_seg_02/valid/pred\")\n",
        "model.load_weights('/content/drive/MyDrive/TEZ2/bestmodel/chkpt'+vid+'.hdf5')\n",
        "results = model.predict_generator(validGene,valid_count,verbose=1)\n",
        "saveResult('/content/drive/MyDrive/inb_mass_seg_02/valid/pred',results,vid[:4])"
      ]
    }
  ],
  "metadata": {
    "accelerator": "GPU",
    "colab": {
      "provenance": [],
      "machine_shape": "hm",
      "gpuType": "T4",
      "gpuClass": "premium"
    },
    "gpuClass": "premium",
    "kernelspec": {
      "display_name": "Python 3",
      "name": "python3"
    },
    "language_info": {
      "name": "python"
    }
  },
  "nbformat": 4,
  "nbformat_minor": 0
}